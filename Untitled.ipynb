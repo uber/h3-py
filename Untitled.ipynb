{
 "cells": [
  {
   "cell_type": "code",
   "execution_count": 1,
   "metadata": {},
   "outputs": [],
   "source": [
    "import h3"
   ]
  },
  {
   "cell_type": "code",
   "execution_count": 2,
   "metadata": {},
   "outputs": [
    {
     "data": {
      "text/plain": [
       "\u001b[0;31mType:\u001b[0m        module\n",
       "\u001b[0;31mString form:\u001b[0m <module 'h3.core' from '/Users/ajfriend/work/h3-py/env/lib/python3.7/site-packages/h3/core.py'>\n",
       "\u001b[0;31mFile:\u001b[0m        ~/work/h3-py/env/lib/python3.7/site-packages/h3/core.py\n",
       "\u001b[0;31mDocstring:\u001b[0m  \n",
       "This module should serve as the interface between the C/Cython code and\n",
       "the Python code. That is, this module should import all the Cython functions we\n",
       "intend to expose to be used in pure Python code, and each of the h3 APIs should\n",
       "*only* reference functions listed here.\n"
      ]
     },
     "metadata": {},
     "output_type": "display_data"
    }
   ],
   "source": [
    "h3."
   ]
  },
  {
   "cell_type": "code",
   "execution_count": null,
   "metadata": {},
   "outputs": [],
   "source": []
  }
 ],
 "metadata": {
  "kernelspec": {
   "display_name": "Python 3",
   "language": "python",
   "name": "python3"
  },
  "language_info": {
   "codemirror_mode": {
    "name": "ipython",
    "version": 3
   },
   "file_extension": ".py",
   "mimetype": "text/x-python",
   "name": "python",
   "nbconvert_exporter": "python",
   "pygments_lexer": "ipython3",
   "version": "3.7.4"
  }
 },
 "nbformat": 4,
 "nbformat_minor": 4
}
